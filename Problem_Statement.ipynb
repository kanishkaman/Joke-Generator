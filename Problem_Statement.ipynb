{
  "cells": [
    {
      "cell_type": "markdown",
      "metadata": {
        "id": "Bma59Wpv_xe3"
      },
      "source": [
        "## Question 1\n",
        "\n",
        "### Part 1\n",
        "\n",
        "Load the dataset, create train, validation and test splits. Preprocess the dataset as required to train a decoder model. (10 marks)\n",
        "\n"
      ]
    },
    {
      "cell_type": "markdown",
      "metadata": {
        "id": "-rk-9UZY_xe2"
      },
      "source": [
        "# UMC 301: Applied Data Science and Artificial Intelligence\n",
        "## Assignment 3\n",
        "\n",
        "### Submission instructions:\n",
        "\n",
        "1.   The assignment is to be submitted in ONE single notebook.\n",
        "2.   Submit the .ipynb file with all cells open and the pdf for part 2 through Teams Assignment.\n",
        "3. If your IISc email ID is < username > @iisc.ac.in, then name the file < username >_Assgn_3. E.g. jonathan_Assgn_3 for email ID jonathan@iisc.ac.in.\n",
        "4. Before submission, execute the ’Restart session and run all’ option from the Runtime/Kernel tab. Verify that there are no errors and that you are getting the output you expect.\n",
        "5. Use the dataset: https://github.com/taivop/joke-dataset\n",
        "6. The assignment is divided into two questions."
      ]
    },
    {
      "cell_type": "markdown",
      "metadata": {
        "id": "a2Ox51FG_xe3"
      },
      "source": [
        "### Part 2\n",
        "\n",
        "Create a decoder model and train it using the joke-dataset. Try out different hyperparameters for the model, like the number of decoder blocks, hidden dimension, sequence length etc. Choose the model which gives you the best results. Log the results for the different hyperparameters combinations used. Submit the logs in a pdf. (18 marks)\n"
      ]
    },
    {
      "cell_type": "markdown",
      "source": [
        "### Part 3\n",
        "\n",
        "Choose any 5 samples from the test dataset and generate the model outputs. (2 marks)"
      ],
      "metadata": {
        "id": "WLFN_qrohtVo"
      }
    },
    {
      "cell_type": "markdown",
      "source": [
        "## Question 2\n",
        "\n",
        "Finetune a GPT-2 model using the dataset and compare the responses of your model and the finetuned GPT-2 model. (18 marks)"
      ],
      "metadata": {
        "id": "nqHtUP42Mlma"
      }
    }
  ],
  "metadata": {
    "kernelspec": {
      "display_name": "Python 3",
      "language": "python",
      "name": "python3"
    },
    "language_info": {
      "name": "python",
      "version": "3.8.10"
    },
    "orig_nbformat": 4,
    "vscode": {
      "interpreter": {
        "hash": "916dbcbb3f70747c44a77c7bcd40155683ae19c65e1c03b4aa3499c5328201f1"
      }
    },
    "colab": {
      "provenance": []
    }
  },
  "nbformat": 4,
  "nbformat_minor": 0
}